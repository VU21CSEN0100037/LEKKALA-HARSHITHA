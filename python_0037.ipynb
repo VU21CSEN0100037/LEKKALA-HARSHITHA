{
  "cells": [
    {
      "cell_type": "markdown",
      "metadata": {
        "id": "view-in-github",
        "colab_type": "text"
      },
      "source": [
        "<a href=\"https://colab.research.google.com/github/VU21CSEN0100037/LEKKALA-HARSHITHA/blob/main/python_0037.ipynb\" target=\"_parent\"><img src=\"https://colab.research.google.com/assets/colab-badge.svg\" alt=\"Open In Colab\"/></a>"
      ]
    },
    {
      "cell_type": "markdown",
      "id": "7070404e",
      "metadata": {
        "id": "7070404e"
      },
      "source": [
        "## average of three numbers"
      ]
    },
    {
      "cell_type": "code",
      "execution_count": null,
      "id": "11c52fbb",
      "metadata": {
        "id": "11c52fbb",
        "outputId": "d3c10abf-7ec9-41c3-a43f-be40e94cfcb8"
      },
      "outputs": [
        {
          "name": "stdout",
          "output_type": "stream",
          "text": [
            "20.0\n",
            "<class 'float'>\n"
          ]
        }
      ],
      "source": [
        "a=10\n",
        "b=20\n",
        "c=30\n",
        "avg=(a+b+c)/3\n",
        "print(avg)\n",
        "print(type(avg))"
      ]
    },
    {
      "cell_type": "markdown",
      "id": "71a0887e",
      "metadata": {
        "id": "71a0887e"
      },
      "source": [
        "## MULTIPLICTION OF THREE NUMBERS"
      ]
    },
    {
      "cell_type": "code",
      "execution_count": null,
      "id": "ad918cbb",
      "metadata": {
        "id": "ad918cbb",
        "outputId": "75683f80-27c0-42a8-d24b-cefd1c01e4cd"
      },
      "outputs": [
        {
          "name": "stdout",
          "output_type": "stream",
          "text": [
            "6000\n",
            "<class 'int'>\n"
          ]
        }
      ],
      "source": [
        "A=30\n",
        "B=20\n",
        "D=10\n",
        "C=A*B*D\n",
        "print(C)\n",
        "print(type(C))"
      ]
    },
    {
      "cell_type": "markdown",
      "id": "ed000509",
      "metadata": {
        "id": "ed000509"
      },
      "source": [
        "## DYNAMIC ADDITION"
      ]
    },
    {
      "cell_type": "code",
      "execution_count": null,
      "id": "17f364a6",
      "metadata": {
        "id": "17f364a6",
        "outputId": "feb161fc-5ac4-4c3a-cc68-20ad7ad39b19"
      },
      "outputs": [
        {
          "name": "stdout",
          "output_type": "stream",
          "text": [
            "enter a number10\n",
            "enter a number20\n",
            "30\n",
            "<class 'type'>\n"
          ]
        }
      ],
      "source": [
        "a=int(input(\"enter a number\"))\n",
        "b=int(input(\"enter a number\"))\n",
        "add=(a+b)\n",
        "print(add)\n",
        "print(type)"
      ]
    },
    {
      "cell_type": "markdown",
      "id": "9210f3de",
      "metadata": {
        "id": "9210f3de"
      },
      "source": [
        "## DYNAMIC MULTIPLICATION"
      ]
    },
    {
      "cell_type": "code",
      "execution_count": null,
      "id": "6137d30b",
      "metadata": {
        "id": "6137d30b",
        "outputId": "eaaad764-27c9-4690-f2f8-544bac03cdad"
      },
      "outputs": [
        {
          "name": "stdout",
          "output_type": "stream",
          "text": [
            "enter a number10\n",
            "enter a number20\n",
            "200\n",
            "<class 'type'>\n"
          ]
        }
      ],
      "source": [
        "a=int(input(\"enter a number\"))\n",
        "b=int(input(\"enter a number\"))\n",
        "c=a*b\n",
        "print(c)\n",
        "print(type)"
      ]
    },
    {
      "cell_type": "markdown",
      "id": "ac709dd8",
      "metadata": {
        "id": "ac709dd8"
      },
      "source": [
        "## conversion \n",
        "## convert int to float"
      ]
    },
    {
      "cell_type": "code",
      "execution_count": null,
      "id": "e1c24bb7",
      "metadata": {
        "id": "e1c24bb7",
        "outputId": "ea02ee86-60ae-4e19-b114-73fe12bfa786"
      },
      "outputs": [
        {
          "name": "stdout",
          "output_type": "stream",
          "text": [
            "<class 'int'>\n",
            "<class 'float'>\n",
            "10.0\n"
          ]
        }
      ],
      "source": [
        "a=10\n",
        "print(type(a))\n",
        "b=float(a)\n",
        "print(type(b))\n",
        "print(b)\n"
      ]
    },
    {
      "cell_type": "markdown",
      "id": "ff04d5b2",
      "metadata": {
        "id": "ff04d5b2"
      },
      "source": [
        "### convert float to int "
      ]
    },
    {
      "cell_type": "code",
      "execution_count": null,
      "id": "7f2aeb2e",
      "metadata": {
        "id": "7f2aeb2e",
        "outputId": "4740a3ba-2959-4aa1-8b4e-605856d915a1"
      },
      "outputs": [
        {
          "name": "stdout",
          "output_type": "stream",
          "text": [
            "<class 'float'>\n",
            "<class 'int'>\n",
            "10\n"
          ]
        }
      ],
      "source": [
        "a=10.20\n",
        "b=int(b)\n",
        "print(type(a))\n",
        "print(type(b))\n",
        "print(b)"
      ]
    },
    {
      "cell_type": "markdown",
      "id": "821499b2",
      "metadata": {
        "id": "821499b2"
      },
      "source": [
        "## convert float into string"
      ]
    },
    {
      "cell_type": "code",
      "execution_count": null,
      "id": "78e69e54",
      "metadata": {
        "id": "78e69e54",
        "outputId": "637470d9-8add-4a96-c769-ebd1a6c819d7"
      },
      "outputs": [
        {
          "name": "stdout",
          "output_type": "stream",
          "text": [
            "<class 'float'>\n",
            "<class 'str'>\n",
            "10.0\n"
          ]
        }
      ],
      "source": [
        "a=10.1\n",
        "b=str(b)\n",
        "print(type(a))\n",
        "print(type(b))\n",
        "print(b)"
      ]
    },
    {
      "cell_type": "markdown",
      "id": "fd127d86",
      "metadata": {
        "id": "fd127d86"
      },
      "source": [
        "## convert string to int (only numbera are possible, letters are not possible)"
      ]
    },
    {
      "cell_type": "code",
      "execution_count": null,
      "id": "c7de53e4",
      "metadata": {
        "id": "c7de53e4",
        "outputId": "c277600d-3296-4649-c97f-26f23acf0217"
      },
      "outputs": [
        {
          "name": "stdout",
          "output_type": "stream",
          "text": [
            "<class 'str'>\n",
            "<class 'int'>\n",
            "1\n"
          ]
        }
      ],
      "source": [
        "a=\"1\"\n",
        "b=int(a)\n",
        "print(type(a))\n",
        "print(type(b))\n",
        "print(b)"
      ]
    },
    {
      "cell_type": "markdown",
      "id": "82134bda",
      "metadata": {
        "id": "82134bda"
      },
      "source": [
        "## convert int to string"
      ]
    },
    {
      "cell_type": "code",
      "execution_count": null,
      "id": "87f0e9aa",
      "metadata": {
        "id": "87f0e9aa",
        "outputId": "4c9c2a73-12ca-418f-80cf-d4cf852dfb55"
      },
      "outputs": [
        {
          "name": "stdout",
          "output_type": "stream",
          "text": [
            "<class 'int'>\n",
            "<class 'str'>\n",
            "1\n"
          ]
        }
      ],
      "source": [
        "a=1\n",
        "b=str(a)\n",
        "print(type(a))\n",
        "print(type(b))\n",
        "print(b)"
      ]
    },
    {
      "cell_type": "markdown",
      "id": "f4b886e8",
      "metadata": {
        "id": "f4b886e8"
      },
      "source": [
        "## BOOLEAN"
      ]
    },
    {
      "cell_type": "code",
      "execution_count": null,
      "id": "c565604a",
      "metadata": {
        "id": "c565604a",
        "outputId": "8de5b85e-2f75-4464-86dd-dba925e11ece"
      },
      "outputs": [
        {
          "name": "stdout",
          "output_type": "stream",
          "text": [
            "True\n",
            "False\n"
          ]
        }
      ],
      "source": [
        "a=1\n",
        "b=0\n",
        "print(bool(a))\n",
        "print(bool(b))"
      ]
    },
    {
      "cell_type": "markdown",
      "id": "72799dc7",
      "metadata": {
        "id": "72799dc7"
      },
      "source": [
        "## BOOLEAN INTO INT"
      ]
    },
    {
      "cell_type": "code",
      "execution_count": null,
      "id": "2c3c51cf",
      "metadata": {
        "id": "2c3c51cf",
        "outputId": "8080312f-ae8b-444d-eb46-094be1daf3d6"
      },
      "outputs": [
        {
          "name": "stdout",
          "output_type": "stream",
          "text": [
            "<class 'bool'>\n",
            "True\n",
            "<class 'int'>\n",
            "True\n"
          ]
        }
      ],
      "source": [
        "a=bool(1)\n",
        "print(type(a))\n",
        "print(bool(a))\n",
        "b=int(1)\n",
        "print(type(b))\n",
        "print(bool(b))"
      ]
    },
    {
      "cell_type": "markdown",
      "id": "479adc21",
      "metadata": {
        "id": "479adc21"
      },
      "source": [
        "## BOOLEAN INTO FLOAT"
      ]
    },
    {
      "cell_type": "code",
      "execution_count": null,
      "id": "4253d70a",
      "metadata": {
        "id": "4253d70a",
        "outputId": "9a6b3d2e-5538-47f9-bdde-9b35d1bea1f1"
      },
      "outputs": [
        {
          "name": "stdout",
          "output_type": "stream",
          "text": [
            "<class 'bool'>\n",
            "True\n",
            "<class 'float'>\n",
            "False\n"
          ]
        }
      ],
      "source": [
        "a=bool(1)\n",
        "print(type(a))\n",
        "print(bool(a))\n",
        "b=float(0)\n",
        "print(type(b))\n",
        "print(bool(b))"
      ]
    },
    {
      "cell_type": "markdown",
      "id": "68d78266",
      "metadata": {
        "id": "68d78266"
      },
      "source": [
        "## BOLLEAN INTO STRING"
      ]
    },
    {
      "cell_type": "code",
      "execution_count": null,
      "id": "a962f6ac",
      "metadata": {
        "id": "a962f6ac",
        "outputId": "4323f75e-7a6a-4bac-da54-929868723656"
      },
      "outputs": [
        {
          "name": "stdout",
          "output_type": "stream",
          "text": [
            "<class 'bool'>\n",
            "True\n",
            "<class 'str'>\n",
            "True\n"
          ]
        }
      ],
      "source": [
        "a=bool(1)\n",
        "print(type(a))\n",
        "print(bool(a))\n",
        "b=str(\"1\")\n",
        "print(type(b))\n",
        "print(bool(b))\n",
        "      "
      ]
    },
    {
      "cell_type": "code",
      "execution_count": null,
      "id": "650499b3",
      "metadata": {
        "id": "650499b3"
      },
      "outputs": [],
      "source": [
        ""
      ]
    }
  ],
  "metadata": {
    "kernelspec": {
      "display_name": "Python 3 (ipykernel)",
      "language": "python",
      "name": "python3"
    },
    "language_info": {
      "codemirror_mode": {
        "name": "ipython",
        "version": 3
      },
      "file_extension": ".py",
      "mimetype": "text/x-python",
      "name": "python",
      "nbconvert_exporter": "python",
      "pygments_lexer": "ipython3",
      "version": "3.9.7"
    },
    "colab": {
      "name": "python 0037.ipynb",
      "provenance": [],
      "include_colab_link": true
    }
  },
  "nbformat": 4,
  "nbformat_minor": 5
}